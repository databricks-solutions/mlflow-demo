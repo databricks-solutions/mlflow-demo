{
 "cells": [
  {
   "cell_type": "markdown",
   "id": "5b68d133",
   "metadata": {},
   "source": [
    "# Observe With Tracing\n",
    "\n",
    "## Implement MLflow Tracing for observability and debugging\n",
    "\n",
    "MLflow Tracing provides comprehensive observability for your GenAI applications, allowing you to:\n",
    "\n",
    "- **Debug** issues by inspecting inputs, outputs, and intermediate steps\n",
    "- **Collect** user feedback to improve your models\n",
    "- **Optimize** latency by identifying bottlenecks\n",
    "\n",
    "Implementing MLflow Tracing only requires _a single line of code_. You can attach end user feedback from your UI to the corresponding trace so you can quickly debug user-reported issues.\n",
    "\n",
    "![tracing-demo](https://i.imgur.com/tNYUHdC.gif)\n"
   ]
  },
  {
   "cell_type": "markdown",
   "id": "db294c4a",
   "metadata": {},
   "source": [
    "## Install packages (only required if running in a Databricks Notebook)"
   ]
  },
  {
   "cell_type": "code",
   "execution_count": null,
   "id": "fd15c5b2",
   "metadata": {},
   "outputs": [],
   "source": [
    "%pip install -U -r ../../requirements.txt\n",
    "dbutils.library.restartPython()"
   ]
  },
  {
   "cell_type": "markdown",
   "id": "49910315",
   "metadata": {},
   "source": [
    "## Environment Setup\n",
    "\n",
    "Load environment variables that connect to the MLflow server for trace logging and configure the sample application to access Databricks resources.\n"
   ]
  },
  {
   "cell_type": "code",
   "execution_count": null,
   "id": "b0fb6dad",
   "metadata": {},
   "outputs": [],
   "source": [
    "import sys\n",
    "sys.path.append('../')\n",
    "sys.path.append('../../')\n",
    "\n",
    "import os\n",
    "from dotenv import load_dotenv\n",
    "import mlflow\n",
    "from mlflow_demo.utils import *\n",
    "\n",
    "if mlflow.utils.databricks_utils.is_in_databricks_notebook():\n",
    "  print(\"Running in Databricks Notebook\")\n",
    "  setup_databricks_notebook_env()\n",
    "else:\n",
    "  print(\"Running in Local IDE\")\n",
    "  setup_local_ide_env()\n",
    "\n",
    "# Verify key variables are loaded\n",
    "print('=== Environment Setup ===')\n",
    "print(f'DATABRICKS_HOST: {os.getenv(\"DATABRICKS_HOST\")}')\n",
    "print(f'MLFLOW_EXPERIMENT_ID: {os.getenv(\"MLFLOW_EXPERIMENT_ID\")}')\n",
    "print(f'LLM_MODEL: {os.getenv(\"LLM_MODEL\")}')\n",
    "print(f'UC_CATALOG: {os.getenv(\"UC_CATALOG\")}')\n",
    "print(f'UC_SCHEMA: {os.getenv(\"UC_SCHEMA\")}')\n",
    "print('✅ Environment variables loaded successfully!')\n",
    "\n",
    "import logging\n",
    "logging.getLogger(\"urllib3\").setLevel(logging.ERROR)\n",
    "logging.getLogger(\"mlflow\").setLevel(logging.ERROR)"
   ]
  },
  {
   "cell_type": "markdown",
   "id": "75ao99o5s6",
   "metadata": {},
   "source": [
    "# 🔍 Step 1: Instrument with Automatic and Manual Tracing\n",
    "\n",
    "MLflow provides comprehensive observability for your GenAI applications with **just a single line of code**. Automatic tracing works out-of-the-box with 20+ popular frameworks including OpenAI, LangChain, Anthropic, and more. While automatic tracing handles most common cases, you can use manual tracing to capture your application's specific logic with custom spans, attributes, and detailed step-by-step tracking.\n",
    "\n",
    "**📖 Code References**\n",
    "\n",
    "- See `EmailGenerator` class definition: `mlflow_demo/agent/email_generator.py:53`\n",
    "- Automatic tracing setup:\n",
    "  - `mlflow_demo/agent/email_generator.py:173`\n",
    "- Manual tracing with `@mlflow.trace`:\n",
    "  - `mlflow_demo/agent/email_generator.py:210`\n",
    "  - `mlflow_demo/agent/email_generator.py:252`\n",
    "  - `mlflow_demo/agent/email_generator.py:388`\n",
    "  - `mlflow_demo/agent/email_generator.py:590`\n",
    "  - `mlflow_demo/agent/email_generator.py:632`\n",
    "\n",
    "**📚 Documentation**\n",
    "\n",
    "- **Automatic Tracing** - One-line setup for popular SDKs\n",
    "- **Manual Tracing** - Custom spans and attributes\n",
    "\n",
    "**▶️ Run the next cell to import the instrumented EmailGenerator class!**"
   ]
  },
  {
   "cell_type": "code",
   "execution_count": null,
   "id": "0z93ukly277",
   "metadata": {},
   "outputs": [],
   "source": [
    "# Import our EmailGenerator class which uses MLflow Tracing\n",
    "# Note: This import must come after loading environment variables\n",
    "from mlflow_demo.agent.email_generator import EmailGenerator\n",
    "\n",
    "print('✅ EmailGenerator imported successfully')"
   ]
  },
  {
   "cell_type": "markdown",
   "id": "21axz29yt9l",
   "metadata": {},
   "source": [
    "# 🚀 Step 2: Run the Email Application\n",
    "\n",
    "Load sample customer data and generate an email using the instrumented EmailGenerator. This creates traces that you can view in the MLflow UI and attach feedback to later.\n",
    "\n",
    "**▶️ Run the next cells to load customer data and generate your first traced email!**\n"
   ]
  },
  {
   "cell_type": "code",
   "execution_count": null,
   "id": "c8ad4bcf",
   "metadata": {},
   "outputs": [],
   "source": [
    "os.getcwd()"
   ]
  },
  {
   "cell_type": "code",
   "execution_count": null,
   "id": "8grr3rs5bma",
   "metadata": {},
   "outputs": [
    {
     "ename": "",
     "evalue": "",
     "output_type": "error",
     "traceback": [
      "\u001b[1;31mThe Kernel crashed while executing code in the current cell or a previous cell. \n",
      "\u001b[1;31mPlease review the code in the cell(s) to identify a possible cause of the failure. \n",
      "\u001b[1;31mClick <a href='https://aka.ms/vscodeJupyterKernelCrash'>here</a> for more info. \n",
      "\u001b[1;31mView Jupyter <a href='command:jupyter.viewOutput'>log</a> for further details."
     ]
    }
   ],
   "source": [
    "import json\n",
    "import os\n",
    "\n",
    "if mlflow.utils.databricks_utils.is_in_databricks_notebook():\n",
    "  input_data_path = '../data/input_data.jsonl'\n",
    "else:\n",
    "  # Fallback - try to find the file\n",
    "  input_data_path = 'mlflow_demo/data/input_data.jsonl'\n",
    "\n",
    "customers = []\n",
    "with open(input_data_path, 'r') as f:\n",
    "  for line in f:\n",
    "    if line.strip():\n",
    "      customers.append(json.loads(line))\n",
    "\n",
    "print(f'📁 Loaded {len(customers)} customer records')\n",
    "print('Available companies:')\n",
    "for i, customer in enumerate(customers[:5]):  # Show first 5\n",
    "  print(f'  {i + 1}. {customer[\"account\"][\"name\"]} ({customer[\"account\"][\"industry\"]})')\n",
    "print(f'  ... and {len(customers) - 5} more')\n",
    "\n",
    "# Let's use the first customer for our example\n",
    "sample_customer = customers[0]\n",
    "print(f'\\n🎯 Selected customer: {sample_customer[\"account\"][\"name\"]}')\n",
    "print(f'Industry: {sample_customer[\"account\"][\"industry\"]}')\n",
    "print(f'Contact: {sample_customer[\"account\"][\"main_contact\"][\"name\"]}')"
   ]
  },
  {
   "cell_type": "code",
   "execution_count": null,
   "id": "84yn3e1o40f",
   "metadata": {},
   "outputs": [],
   "source": [
    "# Initialize the EmailGenerator with our environment configuration\n",
    "email_generator = EmailGenerator()\n",
    "\n",
    "print('🔧 EmailGenerator initialized with:')\n",
    "print(f'   Model: {email_generator.model}')\n",
    "print(\n",
    "  f'   Prompt: {email_generator.uc_catalog}.{email_generator.uc_schema}.{email_generator.prompt_name}@{email_generator.prompt_alias}'\n",
    ")\n",
    "\n",
    "# Get customer name and user instructions for the new API\n",
    "customer_name = sample_customer['account']['name']\n",
    "user_input = 'Please emphasize the upcoming product launch and schedule a demo for next week.'\n",
    "\n",
    "print(f'\\n📝 User instructions: {user_input}')\n",
    "print(f'🎯 Customer: {customer_name}')\n",
    "print('🚀 Generating email...')\n",
    "\n",
    "# Generate the email - this will create MLflow traces!\n",
    "result = email_generator.generate_email_with_retrieval(customer_name, user_input)\n",
    "\n",
    "print('\\n✅ Email generated successfully!')\n",
    "print(f'🆔 Trace ID: {result.get(\"trace_id\")}')\n",
    "print(f'📧 Subject: {result.get(\"subject_line\")}')\n",
    "print(f'📄 Body preview: {result.get(\"body\", \"\")[:200]}...')\n",
    "\n",
    "# Store the trace_id for use in feedback logging\n",
    "current_trace_id = result.get('trace_id')\n",
    "print(f'\\n💾 Stored trace_id for feedback: {current_trace_id}')\n",
    "\n",
    "# Generate MLflow UI links for this trace\n",
    "print('\\n' + '=' * 60)\n",
    "generate_trace_links(current_trace_id)\n",
    "print('=' * 60)"
   ]
  },
  {
   "cell_type": "markdown",
   "id": "brwfcw9kzj",
   "metadata": {},
   "source": [
    "# 👍 Step 3: Log User Feedback to Traces\n",
    "\n",
    "Attach user feedback to the traces you just created. This links user satisfaction directly to specific model generations, making it easy to debug issues and improve your prompts.\n",
    "\n",
    "**📖 Code References**\n",
    "\n",
    "- Backend implementation `log_feedback()`: `mlflow_demo/agent/email_generator.py:304`\n",
    "- Frontend implementation `handleFeedbackSubmit()`: `client/src/components/email-generator/EmailGenerator.tsx:183`\n",
    "\n",
    "**📚 Documentation**\n",
    "\n",
    "- [**Collecting User Feedback**](https://docs.databricks.com/aws/en/mlflow3/genai/tracing/collect-user-feedback/) - Link feedback to traces\n",
    "\n",
    "**▶️ Run the next cells to submit both positive and negative feedback examples!**\n"
   ]
  },
  {
   "cell_type": "code",
   "execution_count": null,
   "id": "p0ahkmk2x8a",
   "metadata": {},
   "outputs": [],
   "source": [
    "# Example 1: Submit positive feedback\n",
    "if current_trace_id:\n",
    "  positive_feedback = email_generator.log_feedback(\n",
    "    trace_id=current_trace_id,\n",
    "    value=True,  # True = positive feedback\n",
    "    comment='Great email! The tone was perfect and it mentioned the product launch as requested.',\n",
    "    user_name=sample_customer['sales_rep']['name'],\n",
    "  )\n",
    "\n",
    "  print('👍 Positive Feedback Submitted:')\n",
    "  print(f'   Success: {positive_feedback[\"success\"]}')\n",
    "  print(f'   Message: {positive_feedback[\"message\"]}')\n",
    "  print(f'   Trace ID: {current_trace_id}')\n",
    "\n",
    "  # Generate MLflow UI links to view the trace with feedback\n",
    "  print('\\n' + '=' * 60)\n",
    "  print('📝 View the trace with your feedback attached:')\n",
    "  generate_trace_links(current_trace_id)\n",
    "  print('=' * 60)\n",
    "else:\n",
    "  print('⚠️ No trace_id available - please run the email generation cell first')"
   ]
  },
  {
   "cell_type": "code",
   "execution_count": null,
   "id": "4hj3het4eu7",
   "metadata": {},
   "outputs": [],
   "source": [
    "# Let's generate another email with different customer data to show negative feedback\n",
    "print('🔄 Generating another email for negative feedback example...')\n",
    "\n",
    "# Use a different customer\n",
    "second_customer = customers[1] if len(customers) > 1 else customers[0]\n",
    "customer_name = second_customer['account']['name']\n",
    "user_input = 'Make it very formal and include technical details about our platform.'\n",
    "\n",
    "print(f'🎯 Customer: {customer_name}')\n",
    "print(f'📝 Instructions: {user_input}')\n",
    "\n",
    "# Generate second email\n",
    "result2 = email_generator.generate_email_with_retrieval(customer_name, user_input)\n",
    "\n",
    "# Get the trace_id - in your application, this is passed to the front end, which then passes it back to the backend when submitting feedback.\n",
    "second_trace_id = result2.get('trace_id')\n",
    "\n",
    "print('✅ Second email generated')\n",
    "print(f'🆔 Trace ID: {second_trace_id}')\n",
    "\n",
    "# Submit negative feedback\n",
    "if second_trace_id:\n",
    "  negative_feedback = email_generator.log_feedback(\n",
    "    trace_id=second_trace_id,\n",
    "    value=False,  # False = negative feedback\n",
    "    comment=\"The email was too generic and didn't capture our company's specific needs. Could be more personalized.\",\n",
    "    user_name=second_customer['sales_rep']['name'],\n",
    "  )\n",
    "\n",
    "  print('\\n👎 Negative Feedback Submitted:')\n",
    "  print(f'   Success: {negative_feedback[\"success\"]}')\n",
    "  print(f'   Message: {negative_feedback[\"message\"]}')\n",
    "  print(f'   Trace ID: {second_trace_id}')\n",
    "\n",
    "  # Generate MLflow UI links to view the trace with negative feedback\n",
    "  print('\\n' + '=' * 60)\n",
    "  print('📝 View the trace with negative feedback attached:')\n",
    "  generate_trace_links(second_trace_id)\n",
    "  print('=' * 60)"
   ]
  },
  {
   "cell_type": "markdown",
   "id": "uhmk6vyiic",
   "metadata": {},
   "source": [
    "# 🎯 Summary and Next Steps\n",
    "\n",
    "Congratulations! You've successfully implemented MLflow tracing for GenAI applications with automatic instrumentation, user feedback collection, and custom span creation.\n",
    "\n",
    "## What You've Accomplished\n",
    "\n",
    "✅ **Enabled automatic tracing** with `mlflow.openai.autolog()`  \n",
    "✅ **Generated traced emails** using instrumented code with `@mlflow.trace`  \n",
    "✅ **Attached user feedback** to traces with `mlflow.log_feedback()`  \n",
    "✅ **Created custom spans** with detailed attributes and metrics\n",
    "\n",
    "**Next steps**\n",
    "\n",
    "- [Follow the quickstart to instrument your own app](https://docs.databricks.com/aws/en/mlflow3/genai/getting-started/tracing/)\n",
    "- [Read the tracing documentation](https://docs.databricks.com/aws/en/mlflow3/genai/tracing/)\n"
   ]
  }
 ],
 "metadata": {
  "kernelspec": {
   "display_name": "mlflow_genai_email_demo",
   "language": "python",
   "name": "python3"
  },
  "language_info": {
   "codemirror_mode": {
    "name": "ipython",
    "version": 3
   },
   "file_extension": ".py",
   "mimetype": "text/x-python",
   "name": "python",
   "nbconvert_exporter": "python",
   "pygments_lexer": "ipython3",
   "version": "3.12.3"
  }
 },
 "nbformat": 4,
 "nbformat_minor": 5
}
